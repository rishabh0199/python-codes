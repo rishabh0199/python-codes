{
 "metadata": {
  "language_info": {
   "codemirror_mode": {
    "name": "ipython",
    "version": 3
   },
   "file_extension": ".py",
   "mimetype": "text/x-python",
   "name": "python",
   "nbconvert_exporter": "python",
   "pygments_lexer": "ipython3",
   "version": "3.9.1-final"
  },
  "orig_nbformat": 2,
  "kernelspec": {
   "name": "python3",
   "display_name": "Python 3.9.1 64-bit",
   "metadata": {
    "interpreter": {
     "hash": "82576922f093ed5b8c2be1c031b17b40c8812c37da9b1c7f1931c6ab7a52843d"
    }
   }
  }
 },
 "nbformat": 4,
 "nbformat_minor": 2,
 "cells": [
  {
   "cell_type": "code",
   "execution_count": 25,
   "metadata": {},
   "outputs": [],
   "source": [
    "x=[]\n",
    "for y in range(10):\n",
    "    y=input('details of rishabh')\n",
    "    x.append(y)"
   ]
  },
  {
   "cell_type": "code",
   "execution_count": 8,
   "metadata": {},
   "outputs": [
    {
     "output_type": "execute_result",
     "data": {
      "text/plain": [
       "['i', 'am', 'good', 'boy', 'ok', 'ok', 'ok', 'ok', 'ok', 'ok']"
      ]
     },
     "metadata": {},
     "execution_count": 8
    }
   ],
   "source": [
    "x"
   ]
  },
  {
   "cell_type": "code",
   "execution_count": 30,
   "metadata": {},
   "outputs": [
    {
     "output_type": "stream",
     "name": "stdout",
     "text": [
      "enter two numbers to add\n",
      "11\n",
      "enter two numbers to add\n",
      "12\n"
     ]
    }
   ],
   "source": [
    "result=[]\n",
    "for c in range(2):\n",
    "    print('enter two numbers to add')\n",
    "    a=int(input('enter first number'))\n",
    "    b=int(input('enter first number'))\n",
    "    c=a+b\n",
    "    d=print(c)\n",
    "    result.append(c)"
   ]
  },
  {
   "cell_type": "code",
   "execution_count": 31,
   "metadata": {},
   "outputs": [
    {
     "output_type": "execute_result",
     "data": {
      "text/plain": [
       "[11, 12]"
      ]
     },
     "metadata": {},
     "execution_count": 31
    }
   ],
   "source": [
    "result"
   ]
  },
  {
   "cell_type": "code",
   "execution_count": 32,
   "metadata": {},
   "outputs": [
    {
     "output_type": "stream",
     "name": "stdout",
     "text": [
      "enter your poem\n",
      "your poem is\n",
      "e\n",
      "e\n",
      "\n"
     ]
    }
   ],
   "source": [
    "poem=''\n",
    "print(\"enter your poem\")\n",
    "while True:\n",
    "    line = input('>>')\n",
    "    if line:\n",
    "        poem += line +'\\n'\n",
    "    else:\n",
    "        break\n",
    "print('your poem is')\n",
    "print(poem)"
   ]
  },
  {
   "cell_type": "code",
   "execution_count": null,
   "metadata": {},
   "outputs": [],
   "source": [
    "while True:\n",
    "    print('calculator menu')\n",
    "    print('ADD\\tSUB\\tDIV\\t\\MUL\\tEXIT')\n",
    "    print('--*20')\n",
    "    print('>>')\n",
    "    ch = input('select option')\n",
    "    if ch.lower()=='add':\n",
    "        x = int(input('enter A'))\n",
    "        y = int(input('enter B'))\n",
    "        print(f'{x}+{y}={x+y}')\n",
    "        print('~~'*20)\n",
    "    elif ch.lower()=='sub':\n",
    "        x = int(input('enter A'))\n",
    "        y = int(input('enter B'))\n",
    "        print(f'{x} - {y} = {x-y}')\n",
    "        print('~~'*20)\n",
    "    elif ch.lower()=='div':\n",
    "        x = int(input('enter A'))\n",
    "        y = int(input('enter B'))\n",
    "        print(f'{x}//{y}={x//y}')\n",
    "        print('~~'*20)\n",
    "    elif ch.lower()=='mul':\n",
    "        x = int(input('enter A'))\n",
    "        y = int(input('enter B'))\n",
    "        print(f'{x}*{y}={x*y}')\n",
    "        print('~~'*20)\n",
    "    elif ch.lower()=='exit':\n",
    "        print('calc closed')\n",
    "        break"
   ]
  },
  {
   "cell_type": "code",
   "execution_count": null,
   "metadata": {},
   "outputs": [],
   "source": []
  }
 ]
}