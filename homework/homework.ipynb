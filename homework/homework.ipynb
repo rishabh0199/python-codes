{
 "metadata": {
  "language_info": {
   "codemirror_mode": {
    "name": "ipython",
    "version": 3
   },
   "file_extension": ".py",
   "mimetype": "text/x-python",
   "name": "python",
   "nbconvert_exporter": "python",
   "pygments_lexer": "ipython3",
   "version": "3.9.1-final"
  },
  "orig_nbformat": 2,
  "kernelspec": {
   "name": "python3",
   "display_name": "Python 3.9.1 64-bit",
   "metadata": {
    "interpreter": {
     "hash": "82576922f093ed5b8c2be1c031b17b40c8812c37da9b1c7f1931c6ab7a52843d"
    }
   }
  }
 },
 "nbformat": 4,
 "nbformat_minor": 2,
 "cells": [
  {
   "cell_type": "code",
   "execution_count": 1,
   "metadata": {},
   "outputs": [],
   "source": [
    "## TASK tat are needed to be done\n",
    "## 1. WAP to count all the repeating characters in a sentence using a function"
   ]
  },
  {
   "cell_type": "code",
   "execution_count": 1,
   "metadata": {},
   "outputs": [
    {
     "output_type": "stream",
     "name": "stdout",
     "text": [
      "i   a h\n"
     ]
    }
   ],
   "source": [
    "string = input(\"enter the sentence\")              ## entering the sentence here\n",
    "duplicates = []                                   ## initializing a list to store all duplicates char\n",
    "for char in string:                               ## checking whether the char have a dupklicate or not\n",
    "    if string.count(char)>1:                      ## returns the frequency of the char in string\n",
    "        if char not in duplicates:                        \n",
    "             duplicates.append(char)                   ##  appending to list\n",
    "print(*duplicates)"
   ]
  },
  {
   "cell_type": "code",
   "execution_count": null,
   "metadata": {},
   "outputs": [],
   "source": [
    "## the above code gives the repeated char those char repeated in sentence"
   ]
  },
  {
   "cell_type": "code",
   "execution_count": 2,
   "metadata": {},
   "outputs": [
    {
     "output_type": "stream",
     "name": "stdout",
     "text": [
      "i   a h \n"
     ]
    }
   ],
   "source": [
    "string = input(\"enter the string\")\n",
    "duplicates={}\n",
    "for char in string:\n",
    "    if char in duplicates:\n",
    "        duplicates[char] += 1\n",
    "    else:\n",
    "        duplicates[char] = 1\n",
    "for key,value in duplicates.items():\n",
    "    if value > 1:\n",
    "        print(key, end =\" \")\n",
    "print()"
   ]
  },
  {
   "cell_type": "code",
   "execution_count": 8,
   "metadata": {},
   "outputs": [],
   "source": [
    "## above prg iss same using dictionary data structure"
   ]
  },
  {
   "cell_type": "code",
   "execution_count": 3,
   "metadata": {},
   "outputs": [
    {
     "output_type": "stream",
     "name": "stdout",
     "text": [
      "i 2\n  2\na 2\nh 2\n"
     ]
    }
   ],
   "source": [
    "count = {}\n",
    "check_string=input(\"enter the sentence\")\n",
    "for s in check_string:\n",
    "  if s in count:\n",
    "    count[s] += 1\n",
    "  else:\n",
    "    count[s] = 1\n",
    "for key in count:\n",
    "  if count[key]>1:\n",
    "    print (key , count[key])"
   ]
  },
  {
   "cell_type": "code",
   "execution_count": 4,
   "metadata": {},
   "outputs": [
    {
     "output_type": "stream",
     "name": "stdout",
     "text": [
      "{'i': 2, ' ': 2, 'a': 2, 'h': 2}\n"
     ]
    }
   ],
   "source": [
    "import collections\n",
    "string=input(\"enter the senetnce\")\n",
    "frequencies= collections.Counter(string)\n",
    "repeated={}\n",
    "for key , value in frequencies.items():\n",
    "    if value>1:\n",
    "        repeated[key]= value\n",
    "print(repeated)"
   ]
  },
  {
   "cell_type": "code",
   "execution_count": 5,
   "metadata": {},
   "outputs": [
    {
     "output_type": "stream",
     "name": "stdout",
     "text": [
      "{'i': 2, ' ': 2, 'a': 2, 'm': 1, 'r': 1, 's': 1, 'h': 2, 'b': 1}\n"
     ]
    }
   ],
   "source": [
    "s= input()\n",
    "f={}\n",
    "for i in s:\n",
    "    if i in f:\n",
    "        f[i] += 1\n",
    "    else:\n",
    "        f[i]= 1\n",
    "print(f)"
   ]
  },
  {
   "cell_type": "code",
   "execution_count": 38,
   "metadata": {},
   "outputs": [
    {
     "output_type": "stream",
     "name": "stdout",
     "text": [
      "h 3\nl 3\no 2\n  4\nr 2\ni 2\na 2\n"
     ]
    }
   ],
   "source": [
    "count = {}\n",
    "check_string=input(\"enter the sentence\")\n",
    "for s in check_string:\n",
    "  if s in count:\n",
    "    count[s] += 1\n",
    "  else:\n",
    "    count[s] = 1\n",
    "for key in count:\n",
    "  if count[key]>1:\n",
    "    print (key , count[key])"
   ]
  },
  {
   "cell_type": "code",
   "execution_count": null,
   "metadata": {},
   "outputs": [],
   "source": [
    "#### below prg is done using the function"
   ]
  },
  {
   "cell_type": "code",
   "execution_count": 36,
   "metadata": {},
   "outputs": [],
   "source": [
    "def count_repe_char():\n",
    "    char='abcdefghijklmnmopqrstuvwxyz'\n",
    "    sentence=input('enter the sentence')   \n",
    "    for char in char:\n",
    "        count=sentence.count(char)\n",
    "        if count > 1:\n",
    "            print(char,count)"
   ]
  },
  {
   "cell_type": "code",
   "execution_count": 37,
   "metadata": {},
   "outputs": [
    {
     "output_type": "stream",
     "name": "stdout",
     "text": [
      "a 4\nd 3\nh 2\ni 7\nm 3\nm 3\no 2\nr 2\ns 2\nt 3\nu 2\n"
     ]
    }
   ],
   "source": [
    "count_repe_char()"
   ]
  },
  {
   "cell_type": "code",
   "execution_count": null,
   "metadata": {},
   "outputs": [],
   "source": []
  }
 ]
}